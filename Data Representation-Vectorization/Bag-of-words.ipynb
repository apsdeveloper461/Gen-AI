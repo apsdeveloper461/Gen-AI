{
 "cells": [
  {
   "cell_type": "markdown",
   "id": "670cfa94",
   "metadata": {},
   "source": [
    " some common terms :\n",
    " 1. Campus - enitre content\n",
    " 2. Vocublary - Unique Words\n",
    " 3. Document  - Line of text - 1row \n",
    " 4. word - one word\n",
    " "
   ]
  },
  {
   "cell_type": "code",
   "execution_count": null,
   "id": "6b063fe7",
   "metadata": {},
   "outputs": [],
   "source": []
  }
 ],
 "metadata": {
  "language_info": {
   "name": "python"
  }
 },
 "nbformat": 4,
 "nbformat_minor": 5
}
