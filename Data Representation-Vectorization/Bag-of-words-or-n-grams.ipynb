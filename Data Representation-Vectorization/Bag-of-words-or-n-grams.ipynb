{
 "cells": [
  {
   "cell_type": "markdown",
   "id": "670cfa94",
   "metadata": {},
   "source": [
    " some common terms :\n",
    " 1. Campus - enitre content\n",
    " 2. Vocublary - Unique Words\n",
    " 3. Document  - Line of text - 1row \n",
    " 4. word - one word\n",
    " "
   ]
  },
  {
   "cell_type": "code",
   "execution_count": 6,
   "id": "6b063fe7",
   "metadata": {},
   "outputs": [],
   "source": [
    "import pandas as pd\n",
    "import numpy as np"
   ]
  },
  {
   "cell_type": "code",
   "execution_count": 7,
   "id": "de2b8e1c",
   "metadata": {},
   "outputs": [
    {
     "data": {
      "text/html": [
       "<div>\n",
       "<style scoped>\n",
       "    .dataframe tbody tr th:only-of-type {\n",
       "        vertical-align: middle;\n",
       "    }\n",
       "\n",
       "    .dataframe tbody tr th {\n",
       "        vertical-align: top;\n",
       "    }\n",
       "\n",
       "    .dataframe thead th {\n",
       "        text-align: right;\n",
       "    }\n",
       "</style>\n",
       "<table border=\"1\" class=\"dataframe\">\n",
       "  <thead>\n",
       "    <tr style=\"text-align: right;\">\n",
       "      <th></th>\n",
       "      <th>text</th>\n",
       "      <th>output</th>\n",
       "    </tr>\n",
       "  </thead>\n",
       "  <tbody>\n",
       "    <tr>\n",
       "      <th>0</th>\n",
       "      <td>I love programming in Python</td>\n",
       "      <td>1</td>\n",
       "    </tr>\n",
       "    <tr>\n",
       "      <th>1</th>\n",
       "      <td>Python is great for data science</td>\n",
       "      <td>1</td>\n",
       "    </tr>\n",
       "    <tr>\n",
       "      <th>2</th>\n",
       "      <td>I enjoy learning new programming languages</td>\n",
       "      <td>0</td>\n",
       "    </tr>\n",
       "    <tr>\n",
       "      <th>3</th>\n",
       "      <td>Data science is an exciting field</td>\n",
       "      <td>1</td>\n",
       "    </tr>\n",
       "    <tr>\n",
       "      <th>4</th>\n",
       "      <td>Python and data science go hand in hand</td>\n",
       "      <td>1</td>\n",
       "    </tr>\n",
       "  </tbody>\n",
       "</table>\n",
       "</div>"
      ],
      "text/plain": [
       "                                         text  output\n",
       "0                I love programming in Python       1\n",
       "1            Python is great for data science       1\n",
       "2  I enjoy learning new programming languages       0\n",
       "3           Data science is an exciting field       1\n",
       "4     Python and data science go hand in hand       1"
      ]
     },
     "execution_count": 7,
     "metadata": {},
     "output_type": "execute_result"
    }
   ],
   "source": [
    "df=pd.DataFrame({\n",
    "    'text':[\"I love programming in Python\",\n",
    "             \"Python is great for data science\",\n",
    "             \"I enjoy learning new programming languages\",\n",
    "             \"Data science is an exciting field\",\n",
    "             \"Python and data science go hand in hand\"]\n",
    "             ,'output' : [1, 1, 0, 1, 1]\n",
    "})\n",
    "df"
   ]
  },
  {
   "cell_type": "code",
   "execution_count": 8,
   "id": "d249cbc7",
   "metadata": {},
   "outputs": [],
   "source": [
    "from sklearn.feature_extraction.text import CountVectorizer\n",
    "vectorizer = CountVectorizer()"
   ]
  },
  {
   "cell_type": "code",
   "execution_count": 10,
   "id": "f8133c51",
   "metadata": {},
   "outputs": [
    {
     "data": {
      "text/plain": [
       "<Compressed Sparse Row sparse matrix of dtype 'int64'\n",
       "\twith 28 stored elements and shape (5, 19)>"
      ]
     },
     "execution_count": 10,
     "metadata": {},
     "output_type": "execute_result"
    }
   ],
   "source": [
    "bow=vectorizer.fit_transform(df['text'])\n",
    "\n",
    "bow"
   ]
  },
  {
   "cell_type": "code",
   "execution_count": 12,
   "id": "432f8a20",
   "metadata": {},
   "outputs": [
    {
     "name": "stdout",
     "output_type": "stream",
     "text": [
      "{'love': 14, 'programming': 16, 'in': 10, 'python': 17, 'is': 11, 'great': 8, 'for': 6, 'data': 2, 'science': 18, 'enjoy': 3, 'learning': 13, 'new': 15, 'languages': 12, 'an': 0, 'exciting': 4, 'field': 5, 'and': 1, 'go': 7, 'hand': 9}\n"
     ]
    }
   ],
   "source": [
    "# vocabalory \n",
    "print(vectorizer.vocabulary_)"
   ]
  },
  {
   "cell_type": "code",
   "execution_count": 13,
   "id": "03c5686c",
   "metadata": {},
   "outputs": [
    {
     "data": {
      "text/plain": [
       "array([[0, 0, 0, 0, 0, 0, 0, 0, 0, 0, 1, 0, 0, 0, 1, 0, 1, 1, 0],\n",
       "       [0, 0, 1, 0, 0, 0, 1, 0, 1, 0, 0, 1, 0, 0, 0, 0, 0, 1, 1],\n",
       "       [0, 0, 0, 1, 0, 0, 0, 0, 0, 0, 0, 0, 1, 1, 0, 1, 1, 0, 0],\n",
       "       [1, 0, 1, 0, 1, 1, 0, 0, 0, 0, 0, 1, 0, 0, 0, 0, 0, 0, 1],\n",
       "       [0, 1, 1, 0, 0, 0, 0, 1, 0, 2, 1, 0, 0, 0, 0, 0, 0, 1, 1]])"
      ]
     },
     "execution_count": 13,
     "metadata": {},
     "output_type": "execute_result"
    }
   ],
   "source": [
    "bow.toarray()"
   ]
  },
  {
   "cell_type": "code",
   "execution_count": 14,
   "id": "1237cfa6",
   "metadata": {},
   "outputs": [
    {
     "data": {
      "text/plain": [
       "array([[0, 0, 0, 0, 0, 0, 0, 0, 0, 0, 1, 0, 0, 0, 1, 0, 1, 1, 0]])"
      ]
     },
     "execution_count": 14,
     "metadata": {},
     "output_type": "execute_result"
    }
   ],
   "source": [
    "bow[0].toarray()  # Example to get the first document's bag-of-words representation"
   ]
  },
  {
   "cell_type": "code",
   "execution_count": 15,
   "id": "c918e7b3",
   "metadata": {},
   "outputs": [
    {
     "name": "stdout",
     "output_type": "stream",
     "text": [
      "[[0 0 1 0 0 0 0 0 0 0 0 0 0 0 1 0 0 0 1]\n",
      " [0 0 0 0 0 0 0 0 0 0 0 1 0 0 0 0 0 1 0]]\n"
     ]
    }
   ],
   "source": [
    "#new data transformation\n",
    "new_data = [\"I love data science\", \"Python is awesome\"]\n",
    "new_bow = vectorizer.transform(new_data)\n",
    "print(new_bow.toarray())"
   ]
  },
  {
   "cell_type": "markdown",
   "id": "56cf3a3c",
   "metadata": {},
   "source": [
    "# N grams"
   ]
  },
  {
   "cell_type": "markdown",
   "id": "49559579",
   "metadata": {},
   "source": [
    "#### in whihc define the word of combination for tokenization"
   ]
  },
  {
   "cell_type": "code",
   "execution_count": 23,
   "id": "248ed250",
   "metadata": {},
   "outputs": [],
   "source": [
    "from sklearn.feature_extraction.text import CountVectorizer\n",
    "cv=CountVectorizer(ngram_range=(2, 2))  # Example for bigrams"
   ]
  },
  {
   "cell_type": "code",
   "execution_count": 25,
   "id": "1d727284",
   "metadata": {},
   "outputs": [
    {
     "data": {
      "text/plain": [
       "<Compressed Sparse Row sparse matrix of dtype 'int64'\n",
       "\twith 24 stored elements and shape (5, 22)>"
      ]
     },
     "execution_count": 25,
     "metadata": {},
     "output_type": "execute_result"
    }
   ],
   "source": [
    "bow1=cv.fit_transform(df['text'])\n",
    "bow1"
   ]
  },
  {
   "cell_type": "code",
   "execution_count": 26,
   "id": "b6fceca3",
   "metadata": {},
   "outputs": [
    {
     "data": {
      "text/plain": [
       "{'love programming': 14,\n",
       " 'programming in': 16,\n",
       " 'in python': 10,\n",
       " 'python is': 19,\n",
       " 'is great': 12,\n",
       " 'great for': 7,\n",
       " 'for data': 5,\n",
       " 'data science': 2,\n",
       " 'enjoy learning': 3,\n",
       " 'learning new': 13,\n",
       " 'new programming': 15,\n",
       " 'programming languages': 17,\n",
       " 'science is': 21,\n",
       " 'is an': 11,\n",
       " 'an exciting': 0,\n",
       " 'exciting field': 4,\n",
       " 'python and': 18,\n",
       " 'and data': 1,\n",
       " 'science go': 20,\n",
       " 'go hand': 6,\n",
       " 'hand in': 8,\n",
       " 'in hand': 9}"
      ]
     },
     "execution_count": 26,
     "metadata": {},
     "output_type": "execute_result"
    }
   ],
   "source": [
    "cv.vocabulary_"
   ]
  },
  {
   "cell_type": "code",
   "execution_count": null,
   "id": "5d97348b",
   "metadata": {},
   "outputs": [],
   "source": []
  },
  {
   "cell_type": "code",
   "execution_count": null,
   "id": "b2b61700",
   "metadata": {},
   "outputs": [],
   "source": []
  }
 ],
 "metadata": {
  "kernelspec": {
   "display_name": "Python 3",
   "language": "python",
   "name": "python3"
  },
  "language_info": {
   "codemirror_mode": {
    "name": "ipython",
    "version": 3
   },
   "file_extension": ".py",
   "mimetype": "text/x-python",
   "name": "python",
   "nbconvert_exporter": "python",
   "pygments_lexer": "ipython3",
   "version": "3.13.5"
  }
 },
 "nbformat": 4,
 "nbformat_minor": 5
}
